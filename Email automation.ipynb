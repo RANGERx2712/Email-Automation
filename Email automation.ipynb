{
 "cells": [
  {
   "cell_type": "code",
   "execution_count": 15,
   "id": "a741aaf4-c251-4a3d-ab6b-59dbb14c9223",
   "metadata": {},
   "outputs": [],
   "source": [
    "import smtplib\n",
    "from email.mime.multipart import MIMEMultipart\n",
    "from email.mime.text import MIMEText\n",
    "from email.mime.application import MIMEApplication\n",
    "from email.mime.base import MIMEBase\n",
    "from email import encoders\n",
    "import os"
   ]
  },
  {
   "cell_type": "code",
   "execution_count": 16,
   "id": "20c8ec1b-f260-4cac-a235-4f7823e32d5f",
   "metadata": {},
   "outputs": [],
   "source": [
    "myemail = \"example@gmail.com\"\n",
    "receiver = input(Recruiter's email id: )\n",
    "mypassword = \"XXXXXX\"\n",
    "gmail_server = \"smtp.gmail.com\"\n",
    "gmail_port = 587\n",
    "myserver = smtplib.SMTP(gmail_server,gmail_port)"
   ]
  },
  {
   "cell_type": "code",
   "execution_count": 17,
   "id": "37a3c302-70cf-4cce-ae79-75bf7708b01d",
   "metadata": {},
   "outputs": [
    {
     "data": {
      "text/plain": [
       "(235, b'2.7.0 Accepted')"
      ]
     },
     "execution_count": 17,
     "metadata": {},
     "output_type": "execute_result"
    }
   ],
   "source": [
    "myserver.ehlo()\n",
    "myserver.starttls()\n",
    "myserver.login(myemail,mypassword)"
   ]
  },
  {
   "cell_type": "code",
   "execution_count": 18,
   "id": "ff6e2725-a130-4662-a9ad-676fbbecee63",
   "metadata": {},
   "outputs": [
    {
     "name": "stdin",
     "output_type": "stream",
     "text": [
      "Recruiter Name:  Nikhil\n",
      "Job role:  Full Stack Developer\n",
      "Company Name:  Oracle\n"
     ]
    },
    {
     "name": "stdout",
     "output_type": "stream",
     "text": [
      "Message sent\n"
     ]
    },
    {
     "data": {
      "text/plain": [
       "(221,\n",
       " b'2.0.0 closing connection i13-20020a63e44d000000b005d8b89bbf20sm21120466pgk.63 - gsmtp')"
      ]
     },
     "execution_count": 18,
     "metadata": {},
     "output_type": "execute_result"
    }
   ],
   "source": [
    "recruiter = input(\"Recruiter Name: \")\n",
    "job_role = input(\"Job role: \")\n",
    "organisation = input(\"Company Name: \")\n",
    "text_content = f\"\"\"\n",
    "Hello {recruiter}, I hope this email finds you well. I am Viswanth Rampa an engineering graduate with BTech in Mechanical Engineering and a passionate programmer.\n",
    "\n",
    "I am writing to inquire regarding the job opening in {job_role} at {organisation}. I have experience working with python through building different projects and completing certifications. I am interested for this job and ready to apply my skills and learn more.\n",
    "\n",
    "I am attaching my resume below and looking forward to hearing from you.\n",
    "\n",
    "Thanks,\n",
    "Viswanth Rampa\n",
    "\"\"\"\n",
    "message = MIMEMultipart(\"alternative\")\n",
    "resume = \"Resume_Vish.pdf\"\n",
    "attachment = open(resume,'rb')\n",
    "attachment_package = MIMEBase('application', 'octet-stream')\n",
    "attachment_package.set_payload(attachment.read())\n",
    "encoders.encode_base64(attachment_package)\n",
    "attachment_package.add_header('Content-Disposition', \"attachment; filename=\" + resume)\n",
    "message.attach(attachment_package)\n",
    "message.attach(MIMEText(text_content,'plain'))\n",
    "message['Subject'] = 'Job Opening'\n",
    "message['From'] = 'Viswanth Rampa'\n",
    "text = message.as_string()\n",
    "myserver.sendmail(from_addr = myemail,to_addrs = receiver, msg = text)\n",
    "print(\"Message sent\")\n",
    "myserver.quit()"
   ]
  }
 ],
 "metadata": {
  "kernelspec": {
   "display_name": "Python 3 (ipykernel)",
   "language": "python",
   "name": "python3"
  },
  "language_info": {
   "codemirror_mode": {
    "name": "ipython",
    "version": 3
   },
   "file_extension": ".py",
   "mimetype": "text/x-python",
   "name": "python",
   "nbconvert_exporter": "python",
   "pygments_lexer": "ipython3",
   "version": "3.12.3"
  }
 },
 "nbformat": 4,
 "nbformat_minor": 5
}
